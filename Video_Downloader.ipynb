{
  "cells": [
    {
      "cell_type": "markdown",
      "metadata": {
        "id": "x6582wWiGu-e"
      },
      "source": [
        "First, copy and paste the URL\n",
        " of the YouTube (Or InstaGram, Twitter, TikTok, Etc.) video after the second line of code below if you want the video. If you want just the audio copy paste the URL after the third line of code. Second, right click the file you made in the file explorer and click download. If you want to put the files in your Google drive run the first line of code. Then drag the file you made into the drive/MyDrive folder. Run the fourth and fifth lines with the same instructions as the second and third lines, only as a backup because it is slower and can only download yu."
      ]
    },
    {
      "cell_type": "code",
      "source": [
        "\n",
        "# Mount Google Drive\n",
        "from google.colab import drive\n",
        "drive.mount('/content/drive')"
      ],
      "metadata": {
        "id": "t3uAQv-g7sA3"
      },
      "execution_count": null,
      "outputs": []
    },
    {
      "cell_type": "code",
      "execution_count": null,
      "metadata": {
        "id": "m5Ez0o2ZFayv"
      },
      "outputs": [],
      "source": [
        "\n",
        "# Main Video Downloader\n",
        "!pip install yt-dlp\n",
        "!yt-dlp -f 'bestvideo[ext=mp4]+bestaudio[ext=m4a]/mp4'"
      ]
    },
    {
      "cell_type": "code",
      "execution_count": null,
      "metadata": {
        "id": "pm0-7G71HyeQ"
      },
      "outputs": [],
      "source": [
        "\n",
        "# Main Audio Downloader\n",
        "!pip install yt-dlp\n",
        "!yt-dlp -x --audio-format mp3"
      ]
    },
    {
      "cell_type": "code",
      "source": [
        "\n",
        "# Backup Video Downloader\n",
        "!pip install youtube-dl\n",
        "!youtube-dl -f 'bestvideo[ext=mp4]+bestaudio[ext=m4a]/mp4' /"
      ],
      "metadata": {
        "id": "DZFDmqN4AzIL"
      },
      "execution_count": null,
      "outputs": []
    },
    {
      "cell_type": "code",
      "source": [
        "\n",
        "# Backup Audio Downloader\n",
        "!pip install youtube-dl\n",
        "!youtube-dl -x --audio-format mp3"
      ],
      "metadata": {
        "id": "pBWZWefJAzfc"
      },
      "execution_count": null,
      "outputs": []
    }
  ],
  "metadata": {
    "colab": {
      "collapsed_sections": [],
      "provenance": []
    },
    "kernelspec": {
      "display_name": "Python 3",
      "name": "python3"
    },
    "language_info": {
      "name": "python"
    }
  },
  "nbformat": 4,
  "nbformat_minor": 0
}