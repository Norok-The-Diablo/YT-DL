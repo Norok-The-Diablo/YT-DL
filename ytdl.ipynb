{
  "cells": [
    {
      "cell_type": "markdown",
      "metadata": {
        "id": "view-in-github",
        "colab_type": "text"
      },
      "source": [
        "<a href=\"https://colab.research.google.com/github/Norok-The-Diablo/YT-DL/blob/main/ytdl.ipynb\" target=\"_parent\"><img src=\"https://colab.research.google.com/assets/colab-badge.svg\" alt=\"Open In Colab\"/></a>"
      ]
    },
    {
      "cell_type": "markdown",
      "metadata": {
        "id": "x6582wWiGu-e"
      },
      "source": [
        "First, copy and paste the URL\n",
        " of the YouTube (Or InstaGram, Twitter, TikTok, Etc.) video after the second line of code below if you want the video. If you want to download a playlist copy paste the URL into the third line of the cell in the quotes. If you want just the audio copy paste the URL and put it in the third cell. Second, right click the file(s) you made in the file explorer and click download. If you want to put the file(s) in your Google drive run the first line of code. Then drag the file(s) you made into the drive/MyDrive folder. Run the fourth and fifth lines with the same instructions as the second and third lines, only as a backup because it is slower and can only download YouTube videos."
      ]
    },
    {
      "cell_type": "code",
      "execution_count": null,
      "metadata": {
        "colab": {
          "base_uri": "https://localhost:8080/",
          "height": 76
        },
        "id": "1_0wKmx3l32u",
        "outputId": "f37d3fd8-3e68-4414-bdfc-639fcb8a9b38"
      },
      "outputs": [
        {
          "data": {
            "text/html": [
              "<audio src=\"https://oobabooga.github.io/silence.m4a\" controls>\n"
            ],
            "text/plain": [
              "<IPython.core.display.HTML object>"
            ]
          },
          "metadata": {},
          "output_type": "display_data"
        }
      ],
      "source": [
        "#@markdown Press play on the music player that will appear below:\n",
        "%%html\n",
        "<audio src=\"https://oobabooga.github.io/silence.m4a\" controls>"
      ]
    },
    {
      "cell_type": "code",
      "execution_count": null,
      "metadata": {
        "id": "t3uAQv-g7sA3"
      },
      "outputs": [],
      "source": [
        "# Mount Google Drive\n",
        "from google.colab import drive\n",
        "drive.mount('/content/drive')"
      ]
    },
    {
      "cell_type": "code",
      "execution_count": null,
      "metadata": {
        "id": "C1UyEvbj4GMA"
      },
      "outputs": [],
      "source": [
        "# Main Video Downloader\n",
        "!pip install yt-dlp\n",
        "!yt-dlp -f 'bestvideo[ext=mp4]+bestaudio[ext=m4a]/mp4'\n",
        "!yt-dlp -i -f mp4 --yes-playlist ''"
      ]
    },
    {
      "cell_type": "code",
      "execution_count": null,
      "metadata": {
        "id": "pm0-7G71HyeQ"
      },
      "outputs": [],
      "source": [
        "# Main Audio Downloader\n",
        "!pip install yt-dlp\n",
        "!yt-dlp -x --audio-format mp3\n",
        "!yt-dlp -i -x --audio-format mp3 --yes-playlist ''"
      ]
    },
    {
      "cell_type": "code",
      "execution_count": null,
      "metadata": {
        "id": "DZFDmqN4AzIL"
      },
      "outputs": [],
      "source": [
        "# Backup Video Downloader\n",
        "!pip install youtube-dl\n",
        "!youtube-dl -f 'bestvideo[ext=mp4]+bestaudio[ext=m4a]/mp4'\n",
        "!youtube-dl -i -f mp4 --yes-playlist ''"
      ]
    },
    {
      "cell_type": "code",
      "execution_count": null,
      "metadata": {
        "id": "pBWZWefJAzfc"
      },
      "outputs": [],
      "source": [
        "# Backup Audio Downloader\n",
        "!pip install youtube-dl\n",
        "!youtube-dl -x --audio-format mp3\n",
        "!youtube-dl -i -f mp4 --yes-playlist ''"
      ]
    }
  ],
  "metadata": {
    "colab": {
      "provenance": [],
      "mount_file_id": "1Gup3N7H7yr1zEK-vX2ViJ_nZTZ2owQEz",
      "authorship_tag": "ABX9TyNIgXZHSWW5T8xrUb1VFCPB",
      "include_colab_link": true
    },
    "kernelspec": {
      "display_name": "Python 3",
      "name": "python3"
    },
    "language_info": {
      "name": "python"
    }
  },
  "nbformat": 4,
  "nbformat_minor": 0
}