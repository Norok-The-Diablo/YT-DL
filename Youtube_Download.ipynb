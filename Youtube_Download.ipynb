{
  "cells": [
    {
      "cell_type": "markdown",
      "metadata": {
        "id": "view-in-github",
        "colab_type": "text"
      },
      "source": [
        "<a href=\"https://colab.research.google.com/github/Norok-The-Diablo/YT-DL/blob/main/Youtube_Download.ipynb\" target=\"_parent\"><img src=\"https://colab.research.google.com/assets/colab-badge.svg\" alt=\"Open In Colab\"/></a>"
      ]
    },
    {
      "cell_type": "markdown",
      "metadata": {
        "id": "x6582wWiGu-e"
      },
      "source": [
        "If you have never used this site before, click the file icon on the left and click mount drive. First run the first line of code. Second, copy paste the url of the youtube video after the second command below if you want the video and audio. If you only want audio copy paste the url after the third command. Third, click on the drive folder. Fourth, drag the music into the MyDrive folder in the drop down menu. Then the video or song will be in your drive."
      ]
    },
    {
      "cell_type": "code",
      "execution_count": null,
      "metadata": {
        "id": "T6qDZCUnGmXQ"
      },
      "outputs": [],
      "source": [
        "!pip install youtube-dl"
      ]
    },
    {
      "cell_type": "code",
      "execution_count": null,
      "metadata": {
        "id": "m5Ez0o2ZFayv"
      },
      "outputs": [],
      "source": [
        "!youtube-dl "
      ]
    },
    {
      "cell_type": "code",
      "execution_count": null,
      "metadata": {
        "id": "pm0-7G71HyeQ"
      },
      "outputs": [],
      "source": [
        "!youtube-dl -x --audio-format mp3 "
      ]
    }
  ],
  "metadata": {
    "colab": {
      "collapsed_sections": [],
      "provenance": [],
      "mount_file_id": "1Gup3N7H7yr1zEK-vX2ViJ_nZTZ2owQEz",
      "authorship_tag": "ABX9TyOHI8ymaUPhp4aDzshSvBem",
      "include_colab_link": true
    },
    "kernelspec": {
      "display_name": "Python 3",
      "name": "python3"
    },
    "language_info": {
      "name": "python"
    }
  },
  "nbformat": 4,
  "nbformat_minor": 0
}